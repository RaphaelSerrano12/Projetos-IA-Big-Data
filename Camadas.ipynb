{
  "nbformat": 4,
  "nbformat_minor": 0,
  "metadata": {
    "colab": {
      "provenance": [],
      "include_colab_link": true
    },
    "kernelspec": {
      "name": "python3",
      "display_name": "Python 3"
    }
  },
  "cells": [
    {
      "cell_type": "markdown",
      "metadata": {
        "id": "view-in-github",
        "colab_type": "text"
      },
      "source": [
        "<a href=\"https://colab.research.google.com/github/RaphaelSerrano12/Projetos-IA-Big-Data/blob/main/Camadas.ipynb\" target=\"_parent\"><img src=\"https://colab.research.google.com/assets/colab-badge.svg\" alt=\"Open In Colab\"/></a>"
      ]
    },
    {
      "cell_type": "code",
      "metadata": {
        "id": "5gSr4bKn_NPo"
      },
      "source": [
        "import torch\n",
        "from torch import nn\n",
        "\n",
        "from skimage import data"
      ],
      "execution_count": 1,
      "outputs": []
    },
    {
      "cell_type": "markdown",
      "metadata": {
        "id": "Dz3yaPOyyOYp"
      },
      "source": [
        "## Pooling\n",
        "\n",
        "Documentação: https://pytorch.org/docs/stable/nn.html#torch.nn.MaxPool2d\n",
        "\n",
        "```python\n",
        "torch.nn.MaxPool2d(kernel_size, stride=None, padding=0)\n",
        "```\n",
        "\n",
        "**```kernel_size```** <br>\n",
        "Tamanho dos *Field of View*. Pode ser uma tupla ou um único número. Ex: ```kernel_size = 3``` definirá FoV de $3 \\times 3$\n",
        "\n",
        "**```stride```** <br>\n",
        "Controla o pulo da janela deslizante.\n",
        "\n",
        "**```padding```** <br>\n",
        "Preenchimento com zeros nas bordas da imagem.\n",
        "\n",
        "A camda de pooling espera uma entrada de **pelo menos** 3 dimensões ($C \\times H \\times W$), mas em geral a rede irá prover também a dimensão do batch ($B \\times C \\times H \\times W$)"
      ]
    },
    {
      "cell_type": "code",
      "metadata": {
        "id": "z_6nSeAGyuSR",
        "colab": {
          "base_uri": "https://localhost:8080/"
        },
        "outputId": "73b68785-7163-460d-b56a-210a56bc4189"
      },
      "source": [
        "tns = torch.FloatTensor([ [ [ 1, 2,3 ],\n",
        "                            [4,5,6],\n",
        "                            [7,8,9]  ] ] )\n",
        "\n",
        "pool = nn.MaxPool2d(2, stride=1)\n",
        "saida = pool(tns)\n",
        "\n",
        "print(tns.size())\n",
        "print(tns)\n",
        "print(saida.size())\n",
        "print(saida)"
      ],
      "execution_count": 2,
      "outputs": [
        {
          "output_type": "stream",
          "name": "stdout",
          "text": [
            "torch.Size([1, 3, 3])\n",
            "tensor([[[1., 2., 3.],\n",
            "         [4., 5., 6.],\n",
            "         [7., 8., 9.]]])\n",
            "torch.Size([1, 2, 2])\n",
            "tensor([[[5., 6.],\n",
            "         [8., 9.]]])\n"
          ]
        }
      ]
    },
    {
      "cell_type": "markdown",
      "metadata": {
        "id": "p_xGNalT1e2k"
      },
      "source": [
        "Ao processar dados com múltiplos canais, a camada de pooling processa cada canal de entrada separadamente ao invés de processar todos os canais como em uma camada convolucional. Isso significa que **o número de canais de saída para a camada de pooling é o mesmo que o número de canais de entrada**.\n",
        "\n",
        "Vamos processar abaixo a imagem da astronauta."
      ]
    },
    {
      "cell_type": "code",
      "metadata": {
        "id": "dfXYSTkH0gmq",
        "colab": {
          "base_uri": "https://localhost:8080/"
        },
        "outputId": "f367b327-e9a5-4265-de82-9cec2b48e1b5"
      },
      "source": [
        "conv = nn.Conv2d(in_channels=3, out_channels=16,\n",
        "                 kernel_size=3, padding=1)\n",
        "\n",
        "rgb = data.astronaut()\n",
        "rgb_tns = torch.Tensor(rgb)\n",
        "rgb_tns = rgb_tns.permute(2, 0, 1).unsqueeze(0)\n",
        "mapa_de_ativacao = conv(rgb_tns)\n",
        "print('Feature Map:', mapa_de_ativacao.shape)"
      ],
      "execution_count": 3,
      "outputs": [
        {
          "output_type": "stream",
          "name": "stdout",
          "text": [
            "Feature Map: torch.Size([1, 16, 512, 512])\n"
          ]
        }
      ]
    },
    {
      "cell_type": "code",
      "metadata": {
        "id": "lfyfZmZd1iH8",
        "colab": {
          "base_uri": "https://localhost:8080/"
        },
        "outputId": "d593f8ad-85ae-46fb-8af4-1a1defac9234"
      },
      "source": [
        "pool = nn.MaxPool2d(kernel_size=2)\n",
        "saida = pool(mapa_de_ativacao)\n",
        "print(saida.size())"
      ],
      "execution_count": 4,
      "outputs": [
        {
          "output_type": "stream",
          "name": "stdout",
          "text": [
            "torch.Size([1, 16, 256, 256])\n"
          ]
        }
      ]
    },
    {
      "cell_type": "markdown",
      "metadata": {
        "id": "M62eNRKDpS1g"
      },
      "source": [
        "## Batch Normalization\n",
        "\n",
        "Documentação: https://pytorch.org/docs/stable/nn.html#torch.nn.BatchNorm2d\n",
        "\n",
        "```python\n",
        "torch.nn.BatchNorm2d(num_features)\n",
        "```\n",
        "\n",
        "**```num_features```**<br>\n",
        "$\\mathbf{\\gamma}$ e $\\mathbf{\\beta}$ são aprendidos individualmente para cada canal da entrada. Em ativações de camadas intermediárias, esse valor corresponde ao **número de feature maps**.\n"
      ]
    },
    {
      "cell_type": "code",
      "metadata": {
        "id": "R7rkKA62pUV6",
        "colab": {
          "base_uri": "https://localhost:8080/"
        },
        "outputId": "a0494a98-b4c6-41c7-d133-5a8ca07be50c"
      },
      "source": [
        "blococonv = nn.Sequential(\n",
        "            nn.Conv2d(3,32,kernel_size=3, padding=1),\n",
        "            nn.BatchNorm2d(32),\n",
        "            nn.ReLU(),\n",
        "            nn.MaxPool2d(kernel_size=10)\n",
        ")\n",
        "print(blococonv)\n",
        "\n",
        "minibatch = torch.cat(12*[rgb_tns])\n",
        "\n",
        "print(minibatch.size())\n",
        "saida = blococonv(minibatch)\n",
        "print(saida.size())"
      ],
      "execution_count": 5,
      "outputs": [
        {
          "output_type": "stream",
          "name": "stdout",
          "text": [
            "Sequential(\n",
            "  (0): Conv2d(3, 32, kernel_size=(3, 3), stride=(1, 1), padding=(1, 1))\n",
            "  (1): BatchNorm2d(32, eps=1e-05, momentum=0.1, affine=True, track_running_stats=True)\n",
            "  (2): ReLU()\n",
            "  (3): MaxPool2d(kernel_size=10, stride=10, padding=0, dilation=1, ceil_mode=False)\n",
            ")\n",
            "torch.Size([12, 3, 512, 512])\n",
            "torch.Size([12, 32, 51, 51])\n"
          ]
        }
      ]
    },
    {
      "cell_type": "code",
      "source": [],
      "metadata": {
        "id": "44le_ZqYiKIZ"
      },
      "execution_count": null,
      "outputs": []
    }
  ]
}