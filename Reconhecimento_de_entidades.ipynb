{
  "nbformat": 4,
  "nbformat_minor": 0,
  "metadata": {
    "colab": {
      "provenance": [],
      "include_colab_link": true
    },
    "kernelspec": {
      "name": "python3",
      "display_name": "Python 3"
    },
    "language_info": {
      "name": "python"
    }
  },
  "cells": [
    {
      "cell_type": "markdown",
      "metadata": {
        "id": "view-in-github",
        "colab_type": "text"
      },
      "source": [
        "<a href=\"https://colab.research.google.com/github/RaphaelSerrano12/Projetos-IA-Big-Data/blob/main/Reconhecimento_de_entidades.ipynb\" target=\"_parent\"><img src=\"https://colab.research.google.com/assets/colab-badge.svg\" alt=\"Open In Colab\"/></a>"
      ]
    },
    {
      "cell_type": "markdown",
      "source": [
        "# Reconhecimento de entidades nomeadas"
      ],
      "metadata": {
        "id": "MmFMQMl7nQK8"
      }
    },
    {
      "cell_type": "markdown",
      "source": [
        "Uma grande empresa de advocacia está buscando soluções tecnológicas para otimizar o processamento de documentos jurídicos e melhorar a gestão dos processos em andamento.\n",
        "\n",
        "Atualmente, o escritório lida com um volume significativo de contratos, petições, jurisprudências e outros documentos legais, mas não há uma forma eficiente de extrair automaticamente informações críticas desses textos, como nomes de partes envolvidas, datas relevantes e dispositivos legais citados.\n",
        "\n",
        "Nosso papel nesse projeto é desenvolver um modelo de IA especializado em Reconhecimento de Entidades Nomeadas (NER), capaz de identificar e classificar automaticamente essas informações em textos jurídicos. Isso permitirá que os advogados e equipes jurídicas tenham acesso mais rápido a dados importantes, otimizando o tempo de análise e reduzindo o risco de erro humano, além de facilitar a gestão dos processos de forma mais eficiente."
      ],
      "metadata": {
        "id": "-Qil5UsFbgl6"
      }
    },
    {
      "cell_type": "markdown",
      "source": [
        "## Leitura dos textos"
      ],
      "metadata": {
        "id": "-wCYy5xjnTQU"
      }
    },
    {
      "cell_type": "markdown",
      "source": [
        "Vamos utilizar dados de arquivos txt que estão compactados em um arquivo zip. Para abrir esses arquivos, vamos usar a biblioteca `zipfile`."
      ],
      "metadata": {
        "id": "9fO36y-ZbvUq"
      }
    },
    {
      "cell_type": "code",
      "execution_count": 1,
      "metadata": {
        "id": "AsmpnV_NnPxA"
      },
      "outputs": [],
      "source": [
        "import zipfile"
      ]
    },
    {
      "cell_type": "code",
      "source": [
        "with zipfile.ZipFile('/content/texts.zip', 'r') as zip:\n",
        "  print(zip.namelist())"
      ],
      "metadata": {
        "id": "oIc65e7inXw8",
        "colab": {
          "base_uri": "https://localhost:8080/"
        },
        "outputId": "2ef1a73f-e300-49e6-ce24-18dc89a6b039"
      },
      "execution_count": 2,
      "outputs": [
        {
          "output_type": "stream",
          "name": "stdout",
          "text": [
            "['ADI2TJDFT.txt', 'adi3767.txt', 'Ag10000170733596001.txt', 'Ag10105170208398001.txt', 'AgAIRR11889820145030011.txt', 'AgCr10582160008758001.txt', 'AgRgSTJ1.txt', 'AgRgSTJ2.txt', 'AgRgTSE1.txt', 'AgRgTSE3.txt', 'AIAgRAgI6193ARAGUARIMG.txt', 'airr801422012.txt', 'AIRR3999520145020086.txt', 'AIRR15708820115050222.txt', 'AP00000794920137060006.txt', 'AP00001415620157010201.txt', 'AP00001441420167030203.txt', 'AP771420167080008PA.txt', 'CP32320177080008PA.txt', 'DespSEPLAGDF.txt', 'ED1STM.txt', 'ED1TJAC.txt', 'EDAgRgTSE2.txt', 'EDEDARR208420135040232.txt', 'EDRR1TST.txt', 'EEDRR9715120105020002.txt', 'ERR731004520105130003.txt', 'HC110260SP.txt', 'HC151914AgRES.txt', 'HC340624SP.txt', 'HC418951PR.txt', 'HC70000845920187000000.txt', 'lei11340.txt', 'Lei11788.txt', 'LoaDF2018.txt', 'Pet128TSE5.txt', 'Port77DF.txt', 'Rcl3495STJ.txt', 'REE5908TSE4.txt', 'REsp1583083RS.txt', 'RR474820145230056.txt', 'RR942006420095040028.txt', 'RR2574407120025020372.txt', 'TCU4687.txt', 'TSTRR16037920105200001.txt', 'AC1TCU.txt', 'AC1TJAC.txt', 'AC1TJMG.txt', 'AC2.txt', 'ACORDAOTCU25052016.txt']\n"
          ]
        }
      ]
    },
    {
      "cell_type": "code",
      "source": [
        "with zipfile.ZipFile('/content/texts.zip', 'r') as zip:\n",
        "  print(*zip.namelist(), sep = '\\n')"
      ],
      "metadata": {
        "id": "EWzsNX0_nfVU",
        "colab": {
          "base_uri": "https://localhost:8080/"
        },
        "outputId": "8476ebe4-aed2-48cd-898a-e7cdf82c35b9"
      },
      "execution_count": 3,
      "outputs": [
        {
          "output_type": "stream",
          "name": "stdout",
          "text": [
            "ADI2TJDFT.txt\n",
            "adi3767.txt\n",
            "Ag10000170733596001.txt\n",
            "Ag10105170208398001.txt\n",
            "AgAIRR11889820145030011.txt\n",
            "AgCr10582160008758001.txt\n",
            "AgRgSTJ1.txt\n",
            "AgRgSTJ2.txt\n",
            "AgRgTSE1.txt\n",
            "AgRgTSE3.txt\n",
            "AIAgRAgI6193ARAGUARIMG.txt\n",
            "airr801422012.txt\n",
            "AIRR3999520145020086.txt\n",
            "AIRR15708820115050222.txt\n",
            "AP00000794920137060006.txt\n",
            "AP00001415620157010201.txt\n",
            "AP00001441420167030203.txt\n",
            "AP771420167080008PA.txt\n",
            "CP32320177080008PA.txt\n",
            "DespSEPLAGDF.txt\n",
            "ED1STM.txt\n",
            "ED1TJAC.txt\n",
            "EDAgRgTSE2.txt\n",
            "EDEDARR208420135040232.txt\n",
            "EDRR1TST.txt\n",
            "EEDRR9715120105020002.txt\n",
            "ERR731004520105130003.txt\n",
            "HC110260SP.txt\n",
            "HC151914AgRES.txt\n",
            "HC340624SP.txt\n",
            "HC418951PR.txt\n",
            "HC70000845920187000000.txt\n",
            "lei11340.txt\n",
            "Lei11788.txt\n",
            "LoaDF2018.txt\n",
            "Pet128TSE5.txt\n",
            "Port77DF.txt\n",
            "Rcl3495STJ.txt\n",
            "REE5908TSE4.txt\n",
            "REsp1583083RS.txt\n",
            "RR474820145230056.txt\n",
            "RR942006420095040028.txt\n",
            "RR2574407120025020372.txt\n",
            "TCU4687.txt\n",
            "TSTRR16037920105200001.txt\n",
            "AC1TCU.txt\n",
            "AC1TJAC.txt\n",
            "AC1TJMG.txt\n",
            "AC2.txt\n",
            "ACORDAOTCU25052016.txt\n"
          ]
        }
      ]
    },
    {
      "cell_type": "code",
      "source": [
        "with zipfile.ZipFile('/content/texts.zip', 'r') as zip:\n",
        "  with zip.open('ADI2TJDFT.txt') as arquivo:\n",
        "    texto = arquivo.read().decode('utf-8')"
      ],
      "metadata": {
        "id": "6xeBJpFNniR1"
      },
      "execution_count": 4,
      "outputs": []
    },
    {
      "cell_type": "code",
      "source": [],
      "metadata": {
        "id": "K4be8xm6njLE"
      },
      "execution_count": null,
      "outputs": []
    }
  ]
}